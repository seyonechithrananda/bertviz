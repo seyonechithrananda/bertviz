{
 "cells": [
  {
   "cell_type": "code",
   "execution_count": 22,
   "metadata": {},
   "outputs": [],
   "source": [
    "import copy\n",
    "import dgl\n",
    "import matplotlib\n",
    "import matplotlib.cm as cm\n",
    "import torch\n",
    "\n",
    "from functools import partial\n",
    "from IPython.display import SVG, display\n",
    "from rdkit import Chem\n",
    "from rdkit.Chem import rdDepictor\n",
    "from rdkit.Chem.Draw import rdMolDraw2D\n",
    "\n",
    "from dgllife.data import PubChemBioAssayAromaticity\n",
    "from dgllife.data import Tox21\n",
    "from dgllife.model import load_pretrained\n",
    "from dgllife.utils.featurizers import BaseAtomFeaturizer, ConcatFeaturizer, atom_type_one_hot, \\\n",
    "    atom_degree_one_hot, atom_formal_charge, atom_num_radical_electrons, \\\n",
    "    atom_hybridization_one_hot, atom_total_num_H_one_hot, BaseBondFeaturizer"
   ]
  },
  {
   "cell_type": "markdown",
   "metadata": {},
   "source": [
    "Prepare the model, dataset and the features."
   ]
  },
  {
   "cell_type": "code",
   "execution_count": 23,
   "metadata": {},
   "outputs": [
    {
     "name": "stdout",
     "output_type": "stream",
     "text": [
      "Loading previously saved dgl graphs...\n",
      "Pretrained model loaded\n"
     ]
    }
   ],
   "source": [
    "# Prepare featurization functions for atoms and bonds\n",
    "def chirality(atom):\n",
    "    try:\n",
    "        return one_hot_encoding(atom.GetProp('_CIPCode'), ['R', 'S']) + \\\n",
    "               [atom.HasProp('_ChiralityPossible')]\n",
    "    except:\n",
    "        return [False, False] + [atom.HasProp('_ChiralityPossible')]\n",
    "\n",
    "atom_featurizer = BaseAtomFeaturizer(featurizer_funcs={'hv': ConcatFeaturizer([\n",
    "                                      partial(atom_type_one_hot, \n",
    "                                              allowable_set=['B', 'C', 'N', 'O', 'F', 'Si', 'P', 'S', 'Cl', \n",
    "                                                             'As', 'Se', 'Br', 'Te', 'I', 'At'],\n",
    "                                              encode_unknown=True),\n",
    "                                      partial(atom_degree_one_hot, allowable_set=list(range(6))),\n",
    "                                      atom_formal_charge, atom_num_radical_electrons,\n",
    "                                      partial(atom_hybridization_one_hot, encode_unknown=True),\n",
    "                                      lambda atom: [0], # A placeholder for aromatic information,\n",
    "                                      atom_total_num_H_one_hot, chirality])})\n",
    "bond_featurizer = BaseBondFeaturizer({'he': lambda bond: [0 for _ in range(10)]})\n",
    "\n",
    "#dataset = PubChemBioAssayAromaticity(node_featurizer=atom_featurizer, edge_featurizer=bond_featurizer)\n",
    "dataset = Tox21(node_featurizer=atom_featurizer, edge_featurizer=bond_featurizer)\n",
    "model = load_pretrained('AttentiveFP_Aromaticity').eval()"
   ]
  },
  {
   "cell_type": "code",
   "execution_count": 24,
   "metadata": {},
   "outputs": [],
   "source": [
    "def draw(mol_id, dataset, timestep):\n",
    "    \"\"\"Visualize the learned atom weights in readout.\n",
    "    \n",
    "    Parameters\n",
    "    ----------\n",
    "    mol_id : int\n",
    "        Index for the molecule to visualize in the dataset.\n",
    "    dataset\n",
    "    timestep : int\n",
    "        As the model has multiple rounds of readout, an additional\n",
    "        index is used to specify the round for the weights.\n",
    "    \"\"\"\n",
    "    # Get the weights from the model.\n",
    "    smiles, g, _, _ = dataset[mol_id]\n",
    "    print(smiles)\n",
    "    g = dgl.batch([g])\n",
    "    atom_feats, bond_feats = g.ndata.pop('hv'), g.edata.pop('he')\n",
    "    _, atom_weights = model(g, atom_feats, bond_feats, get_node_weight=True)\n",
    "    \n",
    "    assert timestep < len(atom_weights), 'Unexpected id for the readout round.'\n",
    "    atom_weights = atom_weights[timestep]\n",
    "    min_value = torch.min(atom_weights)\n",
    "    max_value = torch.max(atom_weights)\n",
    "    atom_weights = (atom_weights - min_value) / (max_value - min_value)\n",
    "    \n",
    "    # Conver the weights to atom colors\n",
    "    norm = matplotlib.colors.Normalize(vmin=0, vmax=1.28)\n",
    "    cmap = cm.get_cmap('Oranges')\n",
    "    plt_colors = cm.ScalarMappable(norm=norm, cmap=cmap)\n",
    "    atom_colors = {i: plt_colors.to_rgba(atom_weights[i].data.item()) for i in range(g.number_of_nodes())}\n",
    "\n",
    "    mol = Chem.MolFromSmiles(smiles)\n",
    "    rdDepictor.Compute2DCoords(mol)\n",
    "    drawer = rdMolDraw2D.MolDraw2DSVG(280,280)\n",
    "    drawer.SetFontSize(1)\n",
    "    op = drawer.drawOptions()\n",
    "    \n",
    "    mol = rdMolDraw2D.PrepareMolForDrawing(mol)\n",
    "    drawer.DrawMolecule(mol,highlightAtoms=range(g.number_of_nodes()),highlightBonds=[],\n",
    "    highlightAtomColors=atom_colors)\n",
    "    drawer.FinishDrawing()\n",
    "    svg = drawer.GetDrawingText()\n",
    "    svg = svg.replace('svg:','')\n",
    "    display(SVG(svg))"
   ]
  },
  {
   "cell_type": "code",
   "execution_count": 36,
   "metadata": {},
   "outputs": [
    {
     "name": "stdout",
     "output_type": "stream",
     "text": [
      "COc1ccc(-c2coc3cc(O)cc(O)c3c2=O)cc1\n"
     ]
    },
    {
     "data": {
      "image/svg+xml": [
       "<svg baseProfile=\"full\" height=\"280px\" version=\"1.1\" viewBox=\"0 0 280 280\" width=\"280px\" xml:space=\"preserve\" xmlns=\"http://www.w3.org/2000/svg\" xmlns:rdkit=\"http://www.rdkit.org/xml\" xmlns:xlink=\"http://www.w3.org/1999/xlink\">\n",
       "<!-- END OF HEADER -->\n",
       "<rect height=\"280\" style=\"opacity:1.0;fill:#FFFFFF;stroke:none\" width=\"280\" x=\"0\" y=\"0\"> </rect>\n",
       "<ellipse cx=\"17.686\" cy=\"121.331\" rx=\"4.95869\" ry=\"4.95869\" style=\"fill:#FFF5EB;fill-rule:evenodd;stroke:#FFF5EB;stroke-width:2px;stroke-linecap:butt;stroke-linejoin:miter;stroke-opacity:1\"/>\n",
       "<ellipse cx=\"27.2901\" cy=\"144.189\" rx=\"10.9161\" ry=\"11.6878\" style=\"fill:#FDE5CD;fill-rule:evenodd;stroke:#FDE5CD;stroke-width:2px;stroke-linecap:butt;stroke-linejoin:miter;stroke-opacity:1\"/>\n",
       "<ellipse cx=\"51.8876\" cy=\"147.301\" rx=\"4.95869\" ry=\"4.95869\" style=\"fill:#FEEAD6;fill-rule:evenodd;stroke:#FEEAD6;stroke-width:2px;stroke-linecap:butt;stroke-linejoin:miter;stroke-opacity:1\"/>\n",
       "<ellipse cx=\"66.8809\" cy=\"127.554\" rx=\"4.95869\" ry=\"4.95869\" style=\"fill:#FDDFC1;fill-rule:evenodd;stroke:#FDDFC1;stroke-width:2px;stroke-linecap:butt;stroke-linejoin:miter;stroke-opacity:1\"/>\n",
       "<ellipse cx=\"91.4784\" cy=\"130.666\" rx=\"4.95869\" ry=\"4.95869\" style=\"fill:#FC8C3B;fill-rule:evenodd;stroke:#FC8C3B;stroke-width:2px;stroke-linecap:butt;stroke-linejoin:miter;stroke-opacity:1\"/>\n",
       "<ellipse cx=\"101.083\" cy=\"153.523\" rx=\"4.95869\" ry=\"4.95869\" style=\"fill:#FEF3E7;fill-rule:evenodd;stroke:#FEF3E7;stroke-width:2px;stroke-linecap:butt;stroke-linejoin:miter;stroke-opacity:1\"/>\n",
       "<ellipse cx=\"125.68\" cy=\"156.635\" rx=\"4.95869\" ry=\"4.95869\" style=\"fill:#CB4301;fill-rule:evenodd;stroke:#CB4301;stroke-width:2px;stroke-linecap:butt;stroke-linejoin:miter;stroke-opacity:1\"/>\n",
       "<ellipse cx=\"135.284\" cy=\"179.493\" rx=\"4.95869\" ry=\"4.95869\" style=\"fill:#FDC895;fill-rule:evenodd;stroke:#FDC895;stroke-width:2px;stroke-linecap:butt;stroke-linejoin:miter;stroke-opacity:1\"/>\n",
       "<ellipse cx=\"159.882\" cy=\"182.604\" rx=\"10.9161\" ry=\"11.6878\" style=\"fill:#FEF3E8;fill-rule:evenodd;stroke:#FEF3E8;stroke-width:2px;stroke-linecap:butt;stroke-linejoin:miter;stroke-opacity:1\"/>\n",
       "<ellipse cx=\"174.875\" cy=\"162.858\" rx=\"4.95869\" ry=\"4.95869\" style=\"fill:#FDDFC1;fill-rule:evenodd;stroke:#FDDFC1;stroke-width:2px;stroke-linecap:butt;stroke-linejoin:miter;stroke-opacity:1\"/>\n",
       "<ellipse cx=\"199.472\" cy=\"165.969\" rx=\"4.95869\" ry=\"4.95869\" style=\"fill:#FDE5CC;fill-rule:evenodd;stroke:#FDE5CC;stroke-width:2px;stroke-linecap:butt;stroke-linejoin:miter;stroke-opacity:1\"/>\n",
       "<ellipse cx=\"214.466\" cy=\"146.223\" rx=\"4.95869\" ry=\"4.95869\" style=\"fill:#FDE3C9;fill-rule:evenodd;stroke:#FDE3C9;stroke-width:2px;stroke-linecap:butt;stroke-linejoin:miter;stroke-opacity:1\"/>\n",
       "<ellipse cx=\"246.226\" cy=\"149.334\" rx=\"21.0464\" ry=\"11.6878\" style=\"fill:#FDB474;fill-rule:evenodd;stroke:#FDB474;stroke-width:2px;stroke-linecap:butt;stroke-linejoin:miter;stroke-opacity:1\"/>\n",
       "<ellipse cx=\"204.862\" cy=\"123.365\" rx=\"4.95869\" ry=\"4.95869\" style=\"fill:#FD9D52;fill-rule:evenodd;stroke:#FD9D52;stroke-width:2px;stroke-linecap:butt;stroke-linejoin:miter;stroke-opacity:1\"/>\n",
       "<ellipse cx=\"180.264\" cy=\"120.254\" rx=\"4.95869\" ry=\"4.95869\" style=\"fill:#FEEDDB;fill-rule:evenodd;stroke:#FEEDDB;stroke-width:2px;stroke-linecap:butt;stroke-linejoin:miter;stroke-opacity:1\"/>\n",
       "<ellipse cx=\"162.941\" cy=\"97.3959\" rx=\"21.0464\" ry=\"11.6878\" style=\"fill:#FDDBB9;fill-rule:evenodd;stroke:#FDDBB9;stroke-width:2px;stroke-linecap:butt;stroke-linejoin:miter;stroke-opacity:1\"/>\n",
       "<ellipse cx=\"165.271\" cy=\"140\" rx=\"4.95869\" ry=\"4.95869\" style=\"fill:#FDDBB9;fill-rule:evenodd;stroke:#FDDBB9;stroke-width:2px;stroke-linecap:butt;stroke-linejoin:miter;stroke-opacity:1\"/>\n",
       "<ellipse cx=\"140.673\" cy=\"136.889\" rx=\"4.95869\" ry=\"4.95869\" style=\"fill:#FFF5EB;fill-rule:evenodd;stroke:#FFF5EB;stroke-width:2px;stroke-linecap:butt;stroke-linejoin:miter;stroke-opacity:1\"/>\n",
       "<ellipse cx=\"131.069\" cy=\"114.031\" rx=\"10.9161\" ry=\"11.6878\" style=\"fill:#FFF5EB;fill-rule:evenodd;stroke:#FFF5EB;stroke-width:2px;stroke-linecap:butt;stroke-linejoin:miter;stroke-opacity:1\"/>\n",
       "<ellipse cx=\"86.0892\" cy=\"173.27\" rx=\"4.95869\" ry=\"4.95869\" style=\"fill:#FDCB9A;fill-rule:evenodd;stroke:#FDCB9A;stroke-width:2px;stroke-linecap:butt;stroke-linejoin:miter;stroke-opacity:1\"/>\n",
       "<ellipse cx=\"61.4917\" cy=\"170.158\" rx=\"4.95869\" ry=\"4.95869\" style=\"fill:#FD994E;fill-rule:evenodd;stroke:#FD994E;stroke-width:2px;stroke-linecap:butt;stroke-linejoin:miter;stroke-opacity:1\"/>\n",
       "<path class=\"bond-0\" d=\"M 17.686,121.331 L 20.7518,128.628\" style=\"fill:none;fill-rule:evenodd;stroke:#000000;stroke-width:2px;stroke-linecap:butt;stroke-linejoin:miter;stroke-opacity:1\"/>\n",
       "<path class=\"bond-0\" d=\"M 20.7518,128.628 L 23.8176,135.925\" style=\"fill:none;fill-rule:evenodd;stroke:#FF0000;stroke-width:2px;stroke-linecap:butt;stroke-linejoin:miter;stroke-opacity:1\"/>\n",
       "<path class=\"bond-1\" d=\"M 35.0089,145.166 L 43.4483,146.233\" style=\"fill:none;fill-rule:evenodd;stroke:#FF0000;stroke-width:2px;stroke-linecap:butt;stroke-linejoin:miter;stroke-opacity:1\"/>\n",
       "<path class=\"bond-1\" d=\"M 43.4483,146.233 L 51.8876,147.301\" style=\"fill:none;fill-rule:evenodd;stroke:#000000;stroke-width:2px;stroke-linecap:butt;stroke-linejoin:miter;stroke-opacity:1\"/>\n",
       "<path class=\"bond-2\" d=\"M 51.8876,147.301 L 66.8809,127.554\" style=\"fill:none;fill-rule:evenodd;stroke:#000000;stroke-width:2px;stroke-linecap:butt;stroke-linejoin:miter;stroke-opacity:1\"/>\n",
       "<path class=\"bond-2\" d=\"M 58.0858,147.337 L 68.5812,133.515\" style=\"fill:none;fill-rule:evenodd;stroke:#000000;stroke-width:2px;stroke-linecap:butt;stroke-linejoin:miter;stroke-opacity:1\"/>\n",
       "<path class=\"bond-20\" d=\"M 51.8876,147.301 L 61.4917,170.158\" style=\"fill:none;fill-rule:evenodd;stroke:#000000;stroke-width:2px;stroke-linecap:butt;stroke-linejoin:miter;stroke-opacity:1\"/>\n",
       "<path class=\"bond-3\" d=\"M 66.8809,127.554 L 91.4784,130.666\" style=\"fill:none;fill-rule:evenodd;stroke:#000000;stroke-width:2px;stroke-linecap:butt;stroke-linejoin:miter;stroke-opacity:1\"/>\n",
       "<path class=\"bond-4\" d=\"M 91.4784,130.666 L 101.083,153.523\" style=\"fill:none;fill-rule:evenodd;stroke:#000000;stroke-width:2px;stroke-linecap:butt;stroke-linejoin:miter;stroke-opacity:1\"/>\n",
       "<path class=\"bond-4\" d=\"M 88.3474,136.015 L 95.0703,152.016\" style=\"fill:none;fill-rule:evenodd;stroke:#000000;stroke-width:2px;stroke-linecap:butt;stroke-linejoin:miter;stroke-opacity:1\"/>\n",
       "<path class=\"bond-5\" d=\"M 101.083,153.523 L 125.68,156.635\" style=\"fill:none;fill-rule:evenodd;stroke:#000000;stroke-width:2px;stroke-linecap:butt;stroke-linejoin:miter;stroke-opacity:1\"/>\n",
       "<path class=\"bond-18\" d=\"M 101.083,153.523 L 86.0892,173.27\" style=\"fill:none;fill-rule:evenodd;stroke:#000000;stroke-width:2px;stroke-linecap:butt;stroke-linejoin:miter;stroke-opacity:1\"/>\n",
       "<path class=\"bond-6\" d=\"M 125.68,156.635 L 135.284,179.493\" style=\"fill:none;fill-rule:evenodd;stroke:#000000;stroke-width:2px;stroke-linecap:butt;stroke-linejoin:miter;stroke-opacity:1\"/>\n",
       "<path class=\"bond-6\" d=\"M 131.692,158.143 L 138.415,174.143\" style=\"fill:none;fill-rule:evenodd;stroke:#000000;stroke-width:2px;stroke-linecap:butt;stroke-linejoin:miter;stroke-opacity:1\"/>\n",
       "<path class=\"bond-21\" d=\"M 125.68,156.635 L 140.673,136.889\" style=\"fill:none;fill-rule:evenodd;stroke:#000000;stroke-width:2px;stroke-linecap:butt;stroke-linejoin:miter;stroke-opacity:1\"/>\n",
       "<path class=\"bond-7\" d=\"M 135.284,179.493 L 143.723,180.56\" style=\"fill:none;fill-rule:evenodd;stroke:#000000;stroke-width:2px;stroke-linecap:butt;stroke-linejoin:miter;stroke-opacity:1\"/>\n",
       "<path class=\"bond-7\" d=\"M 143.723,180.56 L 152.163,181.628\" style=\"fill:none;fill-rule:evenodd;stroke:#FF0000;stroke-width:2px;stroke-linecap:butt;stroke-linejoin:miter;stroke-opacity:1\"/>\n",
       "<path class=\"bond-8\" d=\"M 166.157,174.34 L 170.516,168.599\" style=\"fill:none;fill-rule:evenodd;stroke:#FF0000;stroke-width:2px;stroke-linecap:butt;stroke-linejoin:miter;stroke-opacity:1\"/>\n",
       "<path class=\"bond-8\" d=\"M 170.516,168.599 L 174.875,162.858\" style=\"fill:none;fill-rule:evenodd;stroke:#000000;stroke-width:2px;stroke-linecap:butt;stroke-linejoin:miter;stroke-opacity:1\"/>\n",
       "<path class=\"bond-9\" d=\"M 174.875,162.858 L 199.472,165.969\" style=\"fill:none;fill-rule:evenodd;stroke:#000000;stroke-width:2px;stroke-linecap:butt;stroke-linejoin:miter;stroke-opacity:1\"/>\n",
       "<path class=\"bond-9\" d=\"M 179.187,158.405 L 196.405,160.583\" style=\"fill:none;fill-rule:evenodd;stroke:#000000;stroke-width:2px;stroke-linecap:butt;stroke-linejoin:miter;stroke-opacity:1\"/>\n",
       "<path class=\"bond-22\" d=\"M 174.875,162.858 L 165.271,140\" style=\"fill:none;fill-rule:evenodd;stroke:#000000;stroke-width:2px;stroke-linecap:butt;stroke-linejoin:miter;stroke-opacity:1\"/>\n",
       "<path class=\"bond-10\" d=\"M 199.472,165.969 L 214.466,146.223\" style=\"fill:none;fill-rule:evenodd;stroke:#000000;stroke-width:2px;stroke-linecap:butt;stroke-linejoin:miter;stroke-opacity:1\"/>\n",
       "<path class=\"bond-11\" d=\"M 214.466,146.223 L 222.905,147.29\" style=\"fill:none;fill-rule:evenodd;stroke:#000000;stroke-width:2px;stroke-linecap:butt;stroke-linejoin:miter;stroke-opacity:1\"/>\n",
       "<path class=\"bond-11\" d=\"M 222.905,147.29 L 231.344,148.358\" style=\"fill:none;fill-rule:evenodd;stroke:#FF0000;stroke-width:2px;stroke-linecap:butt;stroke-linejoin:miter;stroke-opacity:1\"/>\n",
       "<path class=\"bond-12\" d=\"M 214.466,146.223 L 204.862,123.365\" style=\"fill:none;fill-rule:evenodd;stroke:#000000;stroke-width:2px;stroke-linecap:butt;stroke-linejoin:miter;stroke-opacity:1\"/>\n",
       "<path class=\"bond-12\" d=\"M 208.453,144.715 L 201.731,128.715\" style=\"fill:none;fill-rule:evenodd;stroke:#000000;stroke-width:2px;stroke-linecap:butt;stroke-linejoin:miter;stroke-opacity:1\"/>\n",
       "<path class=\"bond-13\" d=\"M 204.862,123.365 L 180.264,120.254\" style=\"fill:none;fill-rule:evenodd;stroke:#000000;stroke-width:2px;stroke-linecap:butt;stroke-linejoin:miter;stroke-opacity:1\"/>\n",
       "<path class=\"bond-14\" d=\"M 180.264,120.254 L 177.198,112.957\" style=\"fill:none;fill-rule:evenodd;stroke:#000000;stroke-width:2px;stroke-linecap:butt;stroke-linejoin:miter;stroke-opacity:1\"/>\n",
       "<path class=\"bond-14\" d=\"M 177.198,112.957 L 174.132,105.66\" style=\"fill:none;fill-rule:evenodd;stroke:#FF0000;stroke-width:2px;stroke-linecap:butt;stroke-linejoin:miter;stroke-opacity:1\"/>\n",
       "<path class=\"bond-15\" d=\"M 180.264,120.254 L 165.271,140\" style=\"fill:none;fill-rule:evenodd;stroke:#000000;stroke-width:2px;stroke-linecap:butt;stroke-linejoin:miter;stroke-opacity:1\"/>\n",
       "<path class=\"bond-15\" d=\"M 181.964,126.214 L 171.469,140.037\" style=\"fill:none;fill-rule:evenodd;stroke:#000000;stroke-width:2px;stroke-linecap:butt;stroke-linejoin:miter;stroke-opacity:1\"/>\n",
       "<path class=\"bond-16\" d=\"M 165.271,140 L 140.673,136.889\" style=\"fill:none;fill-rule:evenodd;stroke:#000000;stroke-width:2px;stroke-linecap:butt;stroke-linejoin:miter;stroke-opacity:1\"/>\n",
       "<path class=\"bond-17\" d=\"M 142.959,135.928 L 139.893,128.632\" style=\"fill:none;fill-rule:evenodd;stroke:#000000;stroke-width:2px;stroke-linecap:butt;stroke-linejoin:miter;stroke-opacity:1\"/>\n",
       "<path class=\"bond-17\" d=\"M 139.893,128.632 L 136.827,121.335\" style=\"fill:none;fill-rule:evenodd;stroke:#FF0000;stroke-width:2px;stroke-linecap:butt;stroke-linejoin:miter;stroke-opacity:1\"/>\n",
       "<path class=\"bond-17\" d=\"M 138.388,137.849 L 135.322,130.552\" style=\"fill:none;fill-rule:evenodd;stroke:#000000;stroke-width:2px;stroke-linecap:butt;stroke-linejoin:miter;stroke-opacity:1\"/>\n",
       "<path class=\"bond-17\" d=\"M 135.322,130.552 L 132.256,123.256\" style=\"fill:none;fill-rule:evenodd;stroke:#FF0000;stroke-width:2px;stroke-linecap:butt;stroke-linejoin:miter;stroke-opacity:1\"/>\n",
       "<path class=\"bond-19\" d=\"M 86.0892,173.27 L 61.4917,170.158\" style=\"fill:none;fill-rule:evenodd;stroke:#000000;stroke-width:2px;stroke-linecap:butt;stroke-linejoin:miter;stroke-opacity:1\"/>\n",
       "<path class=\"bond-19\" d=\"M 83.0219,167.884 L 65.8037,165.706\" style=\"fill:none;fill-rule:evenodd;stroke:#000000;stroke-width:2px;stroke-linecap:butt;stroke-linejoin:miter;stroke-opacity:1\"/>\n",
       "<text dominant-baseline=\"central\" style=\"font-size:16px;font-style:normal;font-weight:normal;fill-opacity:1;stroke:none;font-family:sans-serif;fill:#FF0000\" text-anchor=\"end\" x=\"33.356\" y=\"146.669\"><tspan>O</tspan></text>\n",
       "<text dominant-baseline=\"central\" style=\"font-size:16px;font-style:normal;font-weight:normal;fill-opacity:1;stroke:none;font-family:sans-serif;fill:#FF0000\" text-anchor=\"start\" x=\"153.816\" y=\"185.083\"><tspan>O</tspan></text>\n",
       "<text dominant-baseline=\"central\" style=\"font-size:16px;font-style:normal;font-weight:normal;fill-opacity:1;stroke:none;font-family:sans-serif;fill:#FF0000\" text-anchor=\"start\" x=\"232.997\" y=\"151.814\"><tspan>OH</tspan></text>\n",
       "<text dominant-baseline=\"central\" style=\"font-size:16px;font-style:normal;font-weight:normal;fill-opacity:1;stroke:none;font-family:sans-serif;fill:#FF0000\" text-anchor=\"end\" x=\"176.726\" y=\"99.8753\"><tspan>HO</tspan></text>\n",
       "<text dominant-baseline=\"central\" style=\"font-size:16px;font-style:normal;font-weight:normal;fill-opacity:1;stroke:none;font-family:sans-serif;fill:#FF0000\" text-anchor=\"end\" x=\"137.135\" y=\"116.51\"><tspan>O</tspan></text>\n",
       "</svg>"
      ],
      "text/plain": [
       "<IPython.core.display.SVG object>"
      ]
     },
     "metadata": {},
     "output_type": "display_data"
    }
   ],
   "source": [
    "draw(233, dataset, 0)"
   ]
  },
  {
   "cell_type": "code",
   "execution_count": null,
   "metadata": {},
   "outputs": [],
   "source": []
  }
 ],
 "metadata": {
  "kernelspec": {
   "display_name": "Python 3",
   "language": "python",
   "name": "python3"
  },
  "language_info": {
   "codemirror_mode": {
    "name": "ipython",
    "version": 3
   },
   "file_extension": ".py",
   "mimetype": "text/x-python",
   "name": "python",
   "nbconvert_exporter": "python",
   "pygments_lexer": "ipython3",
   "version": "3.7.7"
  }
 },
 "nbformat": 4,
 "nbformat_minor": 2
}
